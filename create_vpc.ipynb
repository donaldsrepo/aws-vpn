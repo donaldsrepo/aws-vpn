{
 "cells": [
  {
   "cell_type": "code",
   "execution_count": null,
   "metadata": {},
   "outputs": [],
   "source": [
    "\"\"\"\n",
    "conda create --name aws-cloud python=3.9 -c conda-forge\n",
    "conda install -c conda-forge psycopg2 boto3\n",
    "\n",
    "jupyter nbconvert --to python create_vpc.ipynb\n",
    "\"\"\"\n",
    "import boto3\n",
    "from botocore.exceptions import ClientError\n",
    "# import psycopg2\n",
    "# import appsettings\n",
    "# import os\n",
    "from datetime import datetime, timezone"
   ]
  },
  {
   "cell_type": "code",
   "execution_count": null,
   "metadata": {},
   "outputs": [],
   "source": [
    "# RDS Clients\n",
    "session = boto3.Session()\n",
    "rds_client = session.client('rds', region_name='us-west-2')\n",
    "\n",
    "# EC2 Clients\n",
    "ec2_client = boto3.client('ec2', region_name=\"us-west-2\")\n",
    "ec2 = boto3.resource('ec2', region_name='us-west-2')"
   ]
  },
  {
   "cell_type": "code",
   "execution_count": null,
   "metadata": {},
   "outputs": [],
   "source": [
    "vpc = ec2.create_vpc(\n",
    "    CidrBlock='172.32.0.0/16',\n",
    "    DryRun=False,\n",
    "    InstanceTenancy='default'\n",
    ")"
   ]
  },
  {
   "cell_type": "code",
   "execution_count": null,
   "metadata": {},
   "outputs": [],
   "source": [
    "# Assign tags to the VPC and get id when finished\n",
    "vpc.create_tags(Tags=[{\"Key\": \"Name\", \"Value\": \"my_vpc\"}])\n",
    "vpc.wait_until_available()\n",
    "print(vpc.id)\n",
    "\n",
    "# Create and Attach the Internet Gateway\n",
    "ig = ec2.create_internet_gateway()\n",
    "vpc.attach_internet_gateway(InternetGatewayId=ig.id)\n",
    "print(ig.id)"
   ]
  },
  {
   "cell_type": "code",
   "execution_count": null,
   "metadata": {},
   "outputs": [],
   "source": [
    "# Create Subnets\n",
    "subnet1 = ec2.create_subnet(\n",
    "    CidrBlock='172.32.16.0/20', \n",
    "    DryRun=False,\n",
    "    VpcId=vpc.id,\n",
    "    AvailabilityZone='us-west-2a'\n",
    ")\n",
    "print(subnet1.id)\n",
    "subnet2 = ec2.create_subnet(\n",
    "    CidrBlock='172.32.32.0/20', \n",
    "    DryRun=False,\n",
    "    VpcId=vpc.id,\n",
    "    AvailabilityZone='us-west-2b'\n",
    ")\n",
    "print(subnet2.id)\n",
    "subnet3 = ec2.create_subnet(\n",
    "    CidrBlock='172.32.0.0/20', \n",
    "    DryRun=False,\n",
    "    VpcId=vpc.id,\n",
    "    AvailabilityZone='us-west-2c'\n",
    ")\n",
    "print(subnet3.id)\n",
    "subnet4 = ec2.create_subnet(\n",
    "    CidrBlock='172.32.48.0/20', \n",
    "    DryRun=False,\n",
    "    VpcId=vpc.id,\n",
    "    AvailabilityZone='us-west-2d'\n",
    ")\n",
    "print(subnet4.id)"
   ]
  },
  {
   "cell_type": "code",
   "execution_count": null,
   "metadata": {},
   "outputs": [],
   "source": [
    "sn_all = ec2_client.describe_subnets()\n",
    "for sn in sn_all['Subnets']:\n",
    "    print(f\"subnet id: {sn['SubnetId']}\")\n",
    "    print(f\"subnet {sn}\")"
   ]
  },
  {
   "cell_type": "code",
   "execution_count": null,
   "metadata": {},
   "outputs": [],
   "source": [
    "# todo: associate gateway with route table\n",
    "route_tables = ec2_client.describe_route_tables( \n",
    "    DryRun=False, \n",
    "    Filters=[{'Name': 'vpc-id', 'Values': [vpc.id]},] \n",
    ")\n",
    "route_id = route_tables['RouteTables'][0]['Associations'][0]['RouteTableId']\n",
    "response = ec2_client.create_route(\n",
    "    DryRun=False, \n",
    "    GatewayId=ig.id, \n",
    "    RouteTableId=route_id, \n",
    "    DestinationCidrBlock=\"0.0.0.0/0\"\n",
    ")"
   ]
  },
  {
   "cell_type": "code",
   "execution_count": null,
   "metadata": {},
   "outputs": [],
   "source": [
    "# enable public dns hostname\n",
    "ec2_client.modify_vpc_attribute(\n",
    "    VpcId = vpc.id, \n",
    "    EnableDnsSupport = {\"Value\": True}\n",
    ")\n",
    "ec2_client.modify_vpc_attribute(\n",
    "    VpcId = vpc.id, \n",
    "    EnableDnsHostnames = {\"Value\": True}\n",
    ")"
   ]
  },
  {
   "cell_type": "code",
   "execution_count": null,
   "metadata": {},
   "outputs": [],
   "source": [
    "# setup Auto-Assign public IPv4 address\n",
    "ec2_client.modify_subnet_attribute(\n",
    "    SubnetId=subnet1.id, \n",
    "    MapPublicIpOnLaunch={'Value': True}\n",
    ")\n",
    "ec2_client.modify_subnet_attribute(\n",
    "    SubnetId=subnet2.id, \n",
    "    MapPublicIpOnLaunch={'Value': True}\n",
    ")\n",
    "ec2_client.modify_subnet_attribute(\n",
    "    SubnetId=subnet3.id, \n",
    "    MapPublicIpOnLaunch={'Value': True}\n",
    ")\n",
    "ec2_client.modify_subnet_attribute(\n",
    "    SubnetId=subnet4.id, \n",
    "    MapPublicIpOnLaunch={'Value': True}\n",
    ")"
   ]
  },
  {
   "cell_type": "code",
   "execution_count": null,
   "metadata": {},
   "outputs": [],
   "source": [
    "subnet_group = \"test-api-subnet-group\"\n",
    "subnet_groups = rds_client.describe_db_subnet_groups(\n",
    "    DBSubnetGroupName=subnet_group,\n",
    "    # find any subnet groups that are associated with our VPC\n",
    "    # Filters=[{'Name': 'VpcId', 'Values': [vpc.id]},] \n",
    ")"
   ]
  },
  {
   "cell_type": "code",
   "execution_count": null,
   "metadata": {},
   "outputs": [],
   "source": [
    "create_subnet_group_flag = True\n",
    "for subnet_group_names in subnet_groups['DBSubnetGroups']:\n",
    "    print(subnet_group_names['DBSubnetGroupName'])\n",
    "    print(subnet_group_names['VpcId'])\n",
    "    if subnet_group_names['DBSubnetGroupName'] == subnet_group:\n",
    "        create_subnet_group_flag = False\n",
    "        print(\"Subnet Group already exists, cannot create! Either delete this first, or use with the current settings\")\n"
   ]
  },
  {
   "cell_type": "code",
   "execution_count": null,
   "metadata": {},
   "outputs": [],
   "source": [
    "if create_subnet_group_flag == True:\n",
    "    response = rds_client.create_db_subnet_group(\n",
    "        DBSubnetGroupName=subnet_group,\n",
    "        DBSubnetGroupDescription='test-api-subnet-group-desc',\n",
    "        SubnetIds = [subnet1.id,subnet2.id,subnet3.id,subnet4.id]\n",
    "    )\n",
    "else:\n",
    "    print(\"Not creating Subnet Group!!\")"
   ]
  },
  {
   "cell_type": "code",
   "execution_count": null,
   "metadata": {},
   "outputs": [],
   "source": [
    "sg = ec2_client.create_security_group(\n",
    "    GroupName='app-vpc-api-dev', \n",
    "    Description = 'Created by Python Script', \n",
    "    VpcId=vpc.id\n",
    ")\n",
    "security_group_id = sg.get('GroupId')\n",
    "print(security_group_id)"
   ]
  },
  {
   "cell_type": "code",
   "execution_count": null,
   "metadata": {},
   "outputs": [],
   "source": [
    "# add inbound rule to security group for external access (PGAdmin) and this script to connect\n",
    "#     Settings: IPv4, PostgreSQL, TCP, 5432, Source Anywhere-IPv4: 0.0.0.0/0\n",
    "port_range_start = 5432\n",
    "port_range_end = 5432\n",
    "protocol = 'TCP'\n",
    "# ip addresses for your laptop/pc\n",
    "cidr1 = \"170.120.130.10/32\"\n",
    "cidr2 = \"160.210.130.4/32\"\n",
    "# public access to VPC\n",
    "cidr3 = \"0.0.0.0/0\"\n",
    "description = 'Needed for Aurora Postgres access from laptop'\n",
    "ec2 = boto3.resource('ec2', region_name='us-west-2')\n",
    "security_group = ec2.SecurityGroup(security_group_id)\n",
    "response = security_group.authorize_ingress(\n",
    "    DryRun=False,\n",
    "    IpPermissions=[\n",
    "        {\n",
    "            'FromPort': port_range_start,\n",
    "            'ToPort' : port_range_end,\n",
    "            'IpProtocol': protocol,\n",
    "            'IpRanges': [\n",
    "                {\n",
    "                    'CidrIp': cidr1, \n",
    "                    'Description': description\n",
    "                },\n",
    "            ]\n",
    "        }\n",
    "    ]\n",
    ")\n",
    "print(response)\n",
    "response = security_group.authorize_ingress(\n",
    "    DryRun=False,\n",
    "    IpPermissions=[\n",
    "        {\n",
    "            'FromPort': port_range_start,\n",
    "            'ToPort' : port_range_end,\n",
    "            'IpProtocol': protocol,\n",
    "            'IpRanges': [\n",
    "                {\n",
    "                    'CidrIp': cidr2, \n",
    "                    'Description': description\n",
    "                },\n",
    "            ]\n",
    "        }\n",
    "    ]\n",
    ")\n",
    "print(response)\n",
    "response = security_group.authorize_ingress(\n",
    "    DryRun=False,\n",
    "    IpPermissions=[\n",
    "        {\n",
    "            'FromPort': port_range_start,\n",
    "            'ToPort' : port_range_end,\n",
    "            'IpProtocol': protocol,\n",
    "            'IpRanges': [\n",
    "                {\n",
    "                    'CidrIp': cidr3, \n",
    "                    'Description': 'Access from Internet'\n",
    "                },\n",
    "            ]\n",
    "        }\n",
    "    ]\n",
    ")\n",
    "print(response)"
   ]
  },
  {
   "cell_type": "code",
   "execution_count": null,
   "metadata": {},
   "outputs": [],
   "source": []
  }
 ],
 "metadata": {
  "kernelspec": {
   "display_name": "aws-cloud",
   "language": "python",
   "name": "python3"
  },
  "language_info": {
   "codemirror_mode": {
    "name": "ipython",
    "version": 3
   },
   "file_extension": ".py",
   "mimetype": "text/x-python",
   "name": "python",
   "nbconvert_exporter": "python",
   "pygments_lexer": "ipython3",
   "version": "3.12.1"
  }
 },
 "nbformat": 4,
 "nbformat_minor": 2
}
